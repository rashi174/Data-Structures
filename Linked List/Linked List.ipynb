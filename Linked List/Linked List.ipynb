{
 "cells": [
  {
   "cell_type": "code",
   "execution_count": 33,
   "metadata": {},
   "outputs": [],
   "source": [
    "class Node:\n",
    "    def __init__(self,data):\n",
    "        self.next=None #Initilize next node as NULL\n",
    "        self.data=data #Assign value to current Node"
   ]
  },
  {
   "cell_type": "code",
   "execution_count": 36,
   "metadata": {},
   "outputs": [
    {
     "name": "stdout",
     "output_type": "stream",
     "text": [
      "1 2 3 4 5 "
     ]
    }
   ],
   "source": [
    "\n",
    "#Create a LinkedList from an Array\n",
    "\n",
    "array=[1,2,3,4,5]\n",
    "head=Node(array[0])\n",
    "temp=temp1=temp2=temp3=head               # used at the end to traverse.\n",
    "\n",
    "i=1\n",
    "while i!=len(array):\n",
    "    head.next=Node(array[i])\n",
    "    head=head.next\n",
    "    i+=1\n",
    "\n",
    "#Print a Linked List\n",
    "while temp:\n",
    "    print(temp.data,end=\" \")\n",
    "    temp=temp.next"
   ]
  },
  {
   "cell_type": "code",
   "execution_count": 37,
   "metadata": {},
   "outputs": [
    {
     "name": "stdout",
     "output_type": "stream",
     "text": [
      "1 2 4 5 "
     ]
    }
   ],
   "source": [
    "#DELETE A GIVEN VALUE FROM LINKEDLIST\n",
    "\n",
    "#1->2->3->4->5\n",
    "#Delete node with value=3\n",
    "\n",
    "val=3\n",
    "while temp1:\n",
    "    if temp1.data==val:\n",
    "        prev.next=temp1.next\n",
    "    prev=temp1\n",
    "    temp1=temp1.next\n",
    "    \n",
    "#LET'S PRINT THE LINKED LIST\n",
    "\n",
    "while temp2:\n",
    "    print(temp2.data,end=\" \")\n",
    "    temp2=temp2.next\n"
   ]
  },
  {
   "cell_type": "code",
   "execution_count": 39,
   "metadata": {},
   "outputs": [
    {
     "name": "stdout",
     "output_type": "stream",
     "text": [
      "4\n"
     ]
    }
   ],
   "source": [
    "#MIDDLE OF A LINKED LIST\n",
    "\n",
    "slow=fast=temp3  #Hare & Tortoise method\n",
    "\n",
    "while fast and fast.next:\n",
    "    fast=fast.next.next\n",
    "    slow=slow.next\n",
    "print(slow.data)\n",
    "\n"
   ]
  },
  {
   "cell_type": "code",
   "execution_count": 48,
   "metadata": {},
   "outputs": [
    {
     "name": "stdout",
     "output_type": "stream",
     "text": [
      "True\n"
     ]
    }
   ],
   "source": [
    "#Detect loop in a Linked list\n",
    "\n",
    "LinkedList=Node(10)\n",
    "headnode=LinkedList\n",
    "LinkedList.next=Node(20)\n",
    "LinkedList=LinkedList.next\n",
    "LinkedList.next=Node(30)\n",
    "LinkedList=LinkedList.next\n",
    "LinkedList.next=Node(40)\n",
    "LinkedList=LinkedList.next\n",
    "LinkedList.next=Node(50)\n",
    "LinkedList=LinkedList.next\n",
    "\n",
    "headnode.next.next.next.next.next = headnode   #create a loop in linkedList\n",
    "\n",
    "\n",
    "s=set()\n",
    "flag=0\n",
    "while headnode:\n",
    "    if headnode in s:\n",
    "        print(True)\n",
    "        flag=1\n",
    "        break\n",
    "    s.add(headnode)\n",
    "    headnode=headnode.next\n",
    "if flag==0:\n",
    "    print(False)\n",
    "\n"
   ]
  },
  {
   "cell_type": "code",
   "execution_count": 57,
   "metadata": {},
   "outputs": [
    {
     "name": "stdout",
     "output_type": "stream",
     "text": [
      "length of LinkedList is:  5\n"
     ]
    }
   ],
   "source": [
    "#find Length of linkedList\n",
    "\n",
    "llist=Node(100)\n",
    "head=llist\n",
    "llist.next=Node(200)\n",
    "llist=llist.next\n",
    "llist.next=Node(300)\n",
    "llist=llist.next\n",
    "llist.next=Node(400)\n",
    "llist=llist.next\n",
    "llist.next=Node(500)\n",
    "llist=llist.next\n",
    "\n",
    "length=0\n",
    "while head:\n",
    "    length+=1\n",
    "   # print(head.data)\n",
    "    head=head.next\n",
    "print(\"length of LinkedList is: \" ,length)"
   ]
  },
  {
   "cell_type": "code",
   "execution_count": 100,
   "metadata": {},
   "outputs": [],
   "source": [
    "#DELETE ALTERNATE NODES OF LINKEDLIST\n",
    "\n",
    "ll=Node(1)\n",
    "head=ll\n",
    "\n",
    "ll.next=Node(2)\n",
    "ll=ll.next\n",
    "ll.next=Node(3)\n",
    "ll=ll.next\n",
    "ll.next=Node(4)\n",
    "ll=ll.next\n",
    "ll.next=Node(5)\n",
    "ll=ll.next\n",
    "ll.next=Node(6)\n",
    "ll=ll.next\n",
    "\n",
    "\n",
    "\n",
    "temp=head\n",
    "while head.next and head.next.next:\n",
    "    head.next=head.next.next\n",
    "    head=head.next\n",
    "\n",
    "#even length\n",
    "prev=None\n",
    "curr=temp\n",
    "\n",
    "while curr:\n",
    "    if curr.next==None:\n",
    "        prev.next=None\n",
    "    prev=curr\n",
    "    curr=curr.next\n",
    "    "
   ]
  },
  {
   "cell_type": "code",
   "execution_count": 13,
   "metadata": {},
   "outputs": [],
   "source": [
    "###  Intersection of Two Linked Lists ---Write a program to find the node at which the intersection of two singly linked lists begins.\n",
    "\n",
    "\n",
    "\n",
    "\n",
    "\n",
    "# Definition for singly-linked list.\n",
    "# class ListNode(object):\n",
    "#     def __init__(self, x):\n",
    "#         self.val = x\n",
    "#         self.next = None\n",
    "\n",
    "class Solution(object):\n",
    "    def getIntersectionNode(self, headA, headB):\n",
    "        \"\"\"\n",
    "        :type head1, head1: ListNode\n",
    "        :rtype: ListNode\n",
    "        \"\"\"\n",
    "        s=set()\n",
    "        while headA:\n",
    "            s.add(headA)\n",
    "            headA=headA.next\n",
    "        while headB:\n",
    "            if headB in s:\n",
    "                return headB\n",
    "            headB=headB.next\n",
    "        return None"
   ]
  },
  {
   "cell_type": "code",
   "execution_count": 30,
   "metadata": {},
   "outputs": [],
   "source": [
    "class node:\n",
    "    def __init__(self,data):\n",
    "        self.data=data\n",
    "        self.next=None\n",
    "head=node(1)\n",
    "temp=head\n",
    "temp.next=node(2)\n",
    "temp=temp.next\n",
    "temp.next=node(3)\n",
    "temp=temp.next\n",
    "temp.next=node(4)\n",
    "temp=temp.next\n",
    "temp.next=node(5)\n",
    "temp=temp.next\n",
    "temp.next=node(6)\n",
    "temp=temp.next\n",
    "\n",
    "#1->2->3->4->5->6"
   ]
  },
  {
   "cell_type": "code",
   "execution_count": 46,
   "metadata": {},
   "outputs": [
    {
     "name": "stdout",
     "output_type": "stream",
     "text": [
      "3\n"
     ]
    }
   ],
   "source": [
    "n=3\n",
    "p1=head\n",
    "i=1\n",
    "while p1 and i<n:\n",
    "  #  print(p1.data)\n",
    "    p1=p1.next\n",
    "    i+=1\n",
    "print(p1.data)    \n",
    "prev=None\n",
    "p2=head\n",
    "while p1:\n",
    "    print(p1.data)\n",
    "    prev=p1\n",
    "    p1=p1.next\n",
    "    p2=p2.next"
   ]
  },
  {
   "cell_type": "code",
   "execution_count": 43,
   "metadata": {},
   "outputs": [
    {
     "data": {
      "text/plain": [
       "6"
      ]
     },
     "execution_count": 43,
     "metadata": {},
     "output_type": "execute_result"
    }
   ],
   "source": [
    "prev.data"
   ]
  },
  {
   "cell_type": "code",
   "execution_count": null,
   "metadata": {},
   "outputs": [],
   "source": []
  }
 ],
 "metadata": {
  "kernelspec": {
   "display_name": "Python 3",
   "language": "python",
   "name": "python3"
  },
  "language_info": {
   "codemirror_mode": {
    "name": "ipython",
    "version": 3
   },
   "file_extension": ".py",
   "mimetype": "text/x-python",
   "name": "python",
   "nbconvert_exporter": "python",
   "pygments_lexer": "ipython3",
   "version": "3.7.3"
  }
 },
 "nbformat": 4,
 "nbformat_minor": 4
}
